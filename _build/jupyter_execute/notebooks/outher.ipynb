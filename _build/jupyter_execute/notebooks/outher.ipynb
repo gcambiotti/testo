{
 "cells": [
  {
   "cell_type": "code",
   "execution_count": 1,
   "id": "b8c9e163-d24f-4aa9-b8a0-746f52937cc1",
   "metadata": {},
   "outputs": [],
   "source": [
    "c=4"
   ]
  },
  {
   "cell_type": "code",
   "execution_count": 2,
   "id": "1d978b6d-1bbd-43ca-b42c-aaca1b272656",
   "metadata": {},
   "outputs": [],
   "source": [
    "def ciao(a):\n",
    "    return a**2"
   ]
  },
  {
   "cell_type": "code",
   "execution_count": 3,
   "id": "d64e00e5-59c4-47ab-8894-d753d3b8f997",
   "metadata": {},
   "outputs": [],
   "source": [
    "b = ciao(c)"
   ]
  },
  {
   "cell_type": "code",
   "execution_count": null,
   "id": "f5afa514-d3bf-4083-a95f-6e0ecbef456d",
   "metadata": {},
   "outputs": [],
   "source": []
  }
 ],
 "metadata": {
  "kernelspec": {
   "display_name": "Python 3 (ipykernel)",
   "language": "python",
   "name": "python3"
  },
  "language_info": {
   "codemirror_mode": {
    "name": "ipython",
    "version": 3
   },
   "file_extension": ".py",
   "mimetype": "text/x-python",
   "name": "python",
   "nbconvert_exporter": "python",
   "pygments_lexer": "ipython3",
   "version": "3.11.0"
  }
 },
 "nbformat": 4,
 "nbformat_minor": 5
}